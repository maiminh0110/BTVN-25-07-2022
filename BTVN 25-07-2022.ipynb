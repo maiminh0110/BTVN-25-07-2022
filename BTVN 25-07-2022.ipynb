{
 "cells": [
  {
   "cell_type": "code",
   "execution_count": 7,
   "id": "1034635e",
   "metadata": {},
   "outputs": [
    {
     "name": "stdout",
     "output_type": "stream",
     "text": [
      "Nhập tên:  NGUyen TRan VAn a   \n",
      "Nguyen Tran Van A\n"
     ]
    }
   ],
   "source": [
    "#Bài 1: Nhập vào họ tên của một người (Giả sử chỉ có 3 chữ).\n",
    "#In họ tên người đó ra màn hình dưới dạng chuẩn: \n",
    "#Không có ký tự trắng thừa ở đầu, cuối và giữa các chữ, chữ cái đầu mỗi từ viết hoa còn lại viết thường. \n",
    "#Ví dụ nhập NgUYỄn VăN bÌNH thì kết quả là Nguyễn Văn Bình.\n",
    "\n",
    "#                          Mai THế MInh        NGUyen TRan VAn a   \n",
    "\n",
    "name = input ('Nhập tên:  ')\n",
    "name1 = name.strip()\n",
    "name1 = name1.lower()\n",
    "name2 = name1.split()\n",
    "X = int(len(name1.split()))\n",
    "\n",
    "\n",
    "def ten(name2, i ,X):\n",
    "    \n",
    "    nameX = name2[(i)]\n",
    "    n = int(len(nameX))\n",
    "    nameX1 = nameX[0].upper() + nameX[1:(n)] \n",
    "    \n",
    "    return (nameX1)\n",
    "\n",
    "i = 0    \n",
    "nameX0 = \"\"\n",
    "\n",
    "for i in range(X):  \n",
    "    nameX0 += (\" \" + ten(name2, i , X))\n",
    "\n",
    "print (nameX0.strip())\n",
    "    \n"
   ]
  },
  {
   "cell_type": "code",
   "execution_count": 5,
   "id": "680ba5c3",
   "metadata": {},
   "outputs": [
    {
     "name": "stdout",
     "output_type": "stream",
     "text": [
      "nhập chuỗi số:  2 3 7 9 4 5 6 2 1 5 15 0 20 3 0 3 17 5\n",
      "tổng các số lẻ là:  73\n",
      "tỏng các số chẵn là:  34\n"
     ]
    }
   ],
   "source": [
    "#Bài 2: Nhập vào một chuỗi gồm các chữ cái và chữ số. \n",
    "#Tính tổng các chữ số chẵn, lẻ trong chuỗi.\n",
    "\n",
    "#    1 2 3 5 7 8\n",
    "#    2 3 45 9 7 5 6 1 2\n",
    "#     2 6 7 9 4 5 6 4 2 12 4 5 56 4\n",
    "#    2 3 7 9 4 5 6 2 1 5 15 0 20 3 0 3 17 5\n",
    "\n",
    "so = input ('nhập chuỗi số: ')\n",
    "so1 = so.strip()\n",
    "so2 = so.split()\n",
    "X = int(len(so1.split()))\n",
    "\n",
    "i = 0 \n",
    "socheck = 0\n",
    "sole1 = 0\n",
    "sochan1 = 0     \n",
    "    #socheck = int(so2[(i)])\n",
    "    #print ('các số check: ', socheck)\n",
    "    \n",
    "def le(so2, i, X):\n",
    "    sole = 0\n",
    "    socheck = int(so2[(i)])\n",
    "    if (socheck%2)==1:\n",
    "        sole = socheck\n",
    "    return (sole)\n",
    "\n",
    "    \n",
    "def chan(so2, i, X):\n",
    "    sochan = 0\n",
    "    socheck = int(so2[(i)])\n",
    "    if (socheck%2)==0: \n",
    "        sochan = socheck\n",
    "    return (sochan)\n",
    "  \n",
    "#nonetype là giá trị của 1 hàm không trả lại bất cứ thứ gì    \n",
    "    \n",
    "for i in range(X):\n",
    "    #sole = (le(so2, i, X))\n",
    "    sole1 += le(so2,i,X)\n",
    "    \n",
    "    #sochan = (chan(so2,i,X))\n",
    "    sochan1 += chan(so2,i,X)\n",
    "        \n",
    "print ('Tổng các số lẻ là: ', sole1)\n",
    "print ('Tỏng các số chẵn là: ', sochan1)\n",
    "\n",
    "\n"
   ]
  },
  {
   "cell_type": "code",
   "execution_count": null,
   "id": "3178cf27",
   "metadata": {},
   "outputs": [],
   "source": []
  },
  {
   "cell_type": "code",
   "execution_count": null,
   "id": "d0412fd1",
   "metadata": {},
   "outputs": [],
   "source": []
  }
 ],
 "metadata": {
  "kernelspec": {
   "display_name": "Python 3 (ipykernel)",
   "language": "python",
   "name": "python3"
  },
  "language_info": {
   "codemirror_mode": {
    "name": "ipython",
    "version": 3
   },
   "file_extension": ".py",
   "mimetype": "text/x-python",
   "name": "python",
   "nbconvert_exporter": "python",
   "pygments_lexer": "ipython3",
   "version": "3.9.12"
  }
 },
 "nbformat": 4,
 "nbformat_minor": 5
}
